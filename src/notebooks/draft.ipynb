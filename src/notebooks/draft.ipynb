{
 "cells": [
  {
   "cell_type": "markdown",
   "metadata": {},
   "source": [
    "### Random checks"
   ]
  },
  {
   "cell_type": "code",
   "execution_count": 3,
   "metadata": {},
   "outputs": [],
   "source": [
    "import numpy as np\n",
    "import matplotlib.pyplot as plt"
   ]
  },
  {
   "cell_type": "code",
   "execution_count": null,
   "metadata": {},
   "outputs": [],
   "source": [
    "time_file = \"../../results/times.npy\"\n",
    "data_file = \"../../results/data.npy\"\n",
    "data_GNSS_TOF_file = \"../../results/data_GNSS_TOF.npy\"\n",
    "data_HK_file = \"../../results/data_HK.npy\"\n",
    "\n",
    "\n",
    "with open(time_file, \"rb\") as f:\n",
    "    times = np.load(f)\n",
    "with open(data_file, \"rb\") as f:\n",
    "    data = np.load(f)\n",
    "with open(data_GNSS_TOF_file, \"rb\") as f:\n",
    "    data_GNSS_TOF = np.load(f)\n",
    "with open(data_HK_file, \"rb\") as f:\n",
    "    data_HK = np.load(f)"
   ]
  },
  {
   "cell_type": "code",
   "execution_count": null,
   "metadata": {},
   "outputs": [],
   "source": [
    "print(data)\n",
    "print(data_GNSS_TOF)\n",
    "\n",
    "plt.plot(times, data - data_GNSS_TOF - data_HK)\n",
    "plt.legend()\n",
    "plt.show()\n",
    "\n",
    "print(data)\n",
    "print(data_GNSS_TOF + data_HK)"
   ]
  },
  {
   "cell_type": "code",
   "execution_count": 2,
   "metadata": {},
   "outputs": [],
   "source": [
    "from poliastro.earth.util import raan_from_ltan\n",
    "from astropy.time import Time, TimeDelta\n",
    "from astropy import units as u"
   ]
  },
  {
   "cell_type": "code",
   "execution_count": 28,
   "metadata": {},
   "outputs": [],
   "source": [
    "epoch_string = \"2028-05-01 09:00:00.000\"\n",
    "ltan = 5 * u.hourangle"
   ]
  },
  {
   "cell_type": "code",
   "execution_count": 29,
   "metadata": {},
   "outputs": [
    {
     "name": "stdout",
     "output_type": "stream",
     "text": [
      "2028-05-01 09:00:00.000\n",
      "294.4384936475089\n"
     ]
    }
   ],
   "source": [
    "epoch = Time(epoch_string, format=\"iso\", scale=\"utc\")\n",
    "print(epoch)\n",
    "raan = raan_from_ltan(epoch, ltan)\n",
    "print(raan.wrap_at(360 * u.deg).to_value(u.deg))"
   ]
  },
  {
   "cell_type": "code",
   "execution_count": null,
   "metadata": {},
   "outputs": [],
   "source": []
  },
  {
   "cell_type": "code",
   "execution_count": 30,
   "metadata": {},
   "outputs": [],
   "source": [
    "time_file = \"../../results/times.npy\"\n",
    "data_file = \"../../results/eclipse.npy\"\n",
    "\n",
    "\n",
    "with open(time_file, \"rb\") as f:\n",
    "    times = np.load(f)\n",
    "with open(data_file, \"rb\") as f:\n",
    "    eclipse = np.load(f)"
   ]
  },
  {
   "cell_type": "code",
   "execution_count": 31,
   "metadata": {},
   "outputs": [
    {
     "ename": "KeyError",
     "evalue": "1",
     "output_type": "error",
     "traceback": [
      "\u001b[0;31m---------------------------------------------------------------------------\u001b[0m",
      "\u001b[0;31mKeyError\u001b[0m                                  Traceback (most recent call last)",
      "Cell \u001b[0;32mIn[31], line 3\u001b[0m\n\u001b[1;32m      1\u001b[0m unique, counts \u001b[38;5;241m=\u001b[39m np\u001b[38;5;241m.\u001b[39munique(eclipse, return_counts\u001b[38;5;241m=\u001b[39m\u001b[38;5;28;01mTrue\u001b[39;00m)\n\u001b[1;32m      2\u001b[0m dict_counts \u001b[38;5;241m=\u001b[39m \u001b[38;5;28mdict\u001b[39m(\u001b[38;5;28mzip\u001b[39m(unique, counts))\n\u001b[0;32m----> 3\u001b[0m eclipse_percentage \u001b[38;5;241m=\u001b[39m \u001b[43mdict_counts\u001b[49m\u001b[43m[\u001b[49m\u001b[38;5;241;43m1\u001b[39;49m\u001b[43m]\u001b[49m \u001b[38;5;241m/\u001b[39m (\u001b[38;5;28mlen\u001b[39m(eclipse)) \u001b[38;5;241m*\u001b[39m \u001b[38;5;241m100\u001b[39m\n\u001b[1;32m      4\u001b[0m \u001b[38;5;28mprint\u001b[39m(eclipse_percentage)\n",
      "\u001b[0;31mKeyError\u001b[0m: 1"
     ]
    }
   ],
   "source": [
    "unique, counts = np.unique(eclipse, return_counts=True)\n",
    "dict_counts = dict(zip(unique, counts))\n",
    "eclipse_percentage = dict_counts[1] / (len(eclipse)) * 100\n",
    "print(eclipse_percentage)"
   ]
  },
  {
   "cell_type": "code",
   "execution_count": null,
   "metadata": {},
   "outputs": [],
   "source": []
  }
 ],
 "metadata": {
  "kernelspec": {
   "display_name": "digital_twin_env",
   "language": "python",
   "name": "python3"
  },
  "language_info": {
   "codemirror_mode": {
    "name": "ipython",
    "version": 3
   },
   "file_extension": ".py",
   "mimetype": "text/x-python",
   "name": "python",
   "nbconvert_exporter": "python",
   "pygments_lexer": "ipython3",
   "version": "3.10.15"
  }
 },
 "nbformat": 4,
 "nbformat_minor": 2
}
